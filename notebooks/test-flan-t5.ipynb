{
 "cells": [
  {
   "cell_type": "code",
   "execution_count": 1,
   "metadata": {
    "execution": {
     "iopub.execute_input": "2024-09-15T05:56:43.850362Z",
     "iopub.status.busy": "2024-09-15T05:56:43.849534Z",
     "iopub.status.idle": "2024-09-15T05:56:49.387020Z",
     "shell.execute_reply": "2024-09-15T05:56:49.386324Z",
     "shell.execute_reply.started": "2024-09-15T05:56:43.850330Z"
    },
    "tags": []
   },
   "outputs": [],
   "source": [
    "import os\n",
    "import pandas as pd\n",
    "\n",
    "from transformers import T5Tokenizer, T5ForConditionalGeneration"
   ]
  },
  {
   "cell_type": "code",
   "execution_count": 9,
   "metadata": {
    "execution": {
     "iopub.execute_input": "2024-09-15T06:04:54.954727Z",
     "iopub.status.busy": "2024-09-15T06:04:54.954290Z",
     "iopub.status.idle": "2024-09-15T06:04:55.787827Z",
     "shell.execute_reply": "2024-09-15T06:04:55.787044Z",
     "shell.execute_reply.started": "2024-09-15T06:04:54.954699Z"
    },
    "tags": []
   },
   "outputs": [
    {
     "name": "stdout",
     "output_type": "stream",
     "text": [
      "  % Total    % Received % Xferd  Average Speed   Time    Time     Time  Current\n",
      "                                 Dload  Upload   Total   Spent    Left  Speed\n",
      "100 28804  100 28804    0     0   153k      0 --:--:-- --:--:-- --:--:--  154k\n"
     ]
    }
   ],
   "source": [
    "!curl 'https://storage.googleapis.com/kagglesdsdata/competitions/80878/8891242/test.csv?GoogleAccessId=web-data@kaggle-161607.iam.gserviceaccount.com&Expires=1726639218&Signature=KYEElr57HG9qaDEikT5%2BXK7b2CIS%2F7%2BPCEoHwXcUG2Tu1zqVlfSRiUgB%2BZCKrHKB3YY%2FfXq%2BhkppRakvguxACp45cWjiPpOktET8JI9MrjvRBENI1JW0qxGuDz6w2kh2YpjNqSOhx%2FMyW4g2zEqdSzvm56JRgqIWRYWEU2LR%2Bv0uJJymeqJQJoo%2FiSOahxESt5GY75PvezN54zfm%2BeRhKbEy7ZaFZYFejGIIb4L%2BhSA%2B%2Bm5vKmVukVvnbZ3Upg0KHe6U2%2BN3DXQSmSJI%2Fu7jkLpaQ1E3YrnBJdGjNW3CudlyrW4mg9y03O9i4Py0GJ8VZODw43wZx5YKuP0h6OCWnw%3D%3D&response-content-disposition=attachment%3B+filename%3Dtest.csv' \\\n",
    "  -H 'accept: text/html,application/xhtml+xml,application/xml;q=0.9,image/avif,image/webp,image/apng,*/*;q=0.8,application/signed-exchange;v=b3;q=0.7' \\\n",
    "  -H 'accept-language: ru-RU,ru;q=0.9,en-US;q=0.8,en;q=0.7' \\\n",
    "  -H 'priority: u=0, i' \\\n",
    "  -H 'referer: https://www.kaggle.com/' \\\n",
    "  -H 'sec-ch-ua: \"Chromium\";v=\"128\", \"Not;A=Brand\";v=\"24\", \"Google Chrome\";v=\"128\"' \\\n",
    "  -H 'sec-ch-ua-arch: \"arm\"' \\\n",
    "  -H 'sec-ch-ua-bitness: \"64\"' \\\n",
    "  -H 'sec-ch-ua-full-version-list: \"Chromium\";v=\"128.0.6613.120\", \"Not;A=Brand\";v=\"24.0.0.0\", \"Google Chrome\";v=\"128.0.6613.120\"' \\\n",
    "  -H 'sec-ch-ua-mobile: ?0' \\\n",
    "  -H 'sec-ch-ua-model: \"\"' \\\n",
    "  -H 'sec-ch-ua-platform: \"macOS\"' \\\n",
    "  -H 'sec-ch-ua-platform-version: \"14.6.1\"' \\\n",
    "  -H 'sec-ch-ua-wow64: ?0' \\\n",
    "  -H 'sec-fetch-dest: document' \\\n",
    "  -H 'sec-fetch-mode: navigate' \\\n",
    "  -H 'sec-fetch-site: cross-site' \\\n",
    "  -H 'sec-fetch-user: ?1' \\\n",
    "  -H 'upgrade-insecure-requests: 1' \\\n",
    "  -H 'user-agent: Mozilla/5.0 (Macintosh; Intel Mac OS X 10_15_7) AppleWebKit/537.36 (KHTML, like Gecko) Chrome/128.0.0.0 Safari/537.36' \\\n",
    "  -H 'x-client-data: CIe2yQEIprbJAQipncoBCMDdygEIlKHLAQiGoM0BCNm9zgEYj87NAQ==' \\\n",
    "  -o 'test.csv'"
   ]
  },
  {
   "cell_type": "code",
   "execution_count": 4,
   "metadata": {
    "execution": {
     "iopub.execute_input": "2024-09-15T05:57:15.403720Z",
     "iopub.status.busy": "2024-09-15T05:57:15.403321Z",
     "iopub.status.idle": "2024-09-15T05:57:16.012160Z",
     "shell.execute_reply": "2024-09-15T05:57:16.011381Z",
     "shell.execute_reply.started": "2024-09-15T05:57:15.403689Z"
    },
    "tags": []
   },
   "outputs": [
    {
     "name": "stdout",
     "output_type": "stream",
     "text": [
      "Filesystem      Size  Used Avail Use% Mounted on\n",
      "overlay         100G   49G   52G  49% /\n",
      "tmpfs            64M     0   64M   0% /dev\n",
      "tmpfs           7.7G     0  7.7G   0% /sys/fs/cgroup\n",
      "/dev/nvme0n1p1  100G   49G   52G  49% /run\n",
      "tmpfs            14G     0   14G   0% /dev/shm\n",
      "/dev/nvme2n1    2.0G  148M  1.8G   8% /home/jovyan\n",
      "tmpfs            14G  120K   14G   1% /home/jovyan/.saturn\n",
      "tmpfs            14G   12K   14G   1% /run/secrets/kubernetes.io/serviceaccount\n",
      "tmpfs           7.7G   12K  7.7G   1% /proc/driver/nvidia\n",
      "tmpfs           7.7G  3.0M  7.7G   1% /run/nvidia-persistenced/socket\n",
      "tmpfs           7.7G     0  7.7G   0% /proc/acpi\n",
      "tmpfs           7.7G     0  7.7G   0% /sys/firmware\n"
     ]
    }
   ],
   "source": [
    "!df -h"
   ]
  },
  {
   "cell_type": "code",
   "execution_count": 5,
   "metadata": {
    "execution": {
     "iopub.execute_input": "2024-09-15T05:57:21.024653Z",
     "iopub.status.busy": "2024-09-15T05:57:21.024234Z",
     "iopub.status.idle": "2024-09-15T05:59:49.343703Z",
     "shell.execute_reply": "2024-09-15T05:59:49.343134Z",
     "shell.execute_reply.started": "2024-09-15T05:57:21.024624Z"
    }
   },
   "outputs": [
    {
     "data": {
      "application/vnd.jupyter.widget-view+json": {
       "model_id": "def135b9e91f4b46b4c270c9a5017fc9",
       "version_major": 2,
       "version_minor": 0
      },
      "text/plain": [
       "tokenizer_config.json:   0%|          | 0.00/2.54k [00:00<?, ?B/s]"
      ]
     },
     "metadata": {},
     "output_type": "display_data"
    },
    {
     "data": {
      "application/vnd.jupyter.widget-view+json": {
       "model_id": "ee9a924e2f92482fb55a0abc6945f0a1",
       "version_major": 2,
       "version_minor": 0
      },
      "text/plain": [
       "spiece.model:   0%|          | 0.00/792k [00:00<?, ?B/s]"
      ]
     },
     "metadata": {},
     "output_type": "display_data"
    },
    {
     "data": {
      "application/vnd.jupyter.widget-view+json": {
       "model_id": "89a1b3eeb2fa4b5db7f6f0ba38528028",
       "version_major": 2,
       "version_minor": 0
      },
      "text/plain": [
       "special_tokens_map.json:   0%|          | 0.00/2.20k [00:00<?, ?B/s]"
      ]
     },
     "metadata": {},
     "output_type": "display_data"
    },
    {
     "data": {
      "application/vnd.jupyter.widget-view+json": {
       "model_id": "c8a36c7d47c04ed09ca43a83c0bd6129",
       "version_major": 2,
       "version_minor": 0
      },
      "text/plain": [
       "tokenizer.json:   0%|          | 0.00/2.42M [00:00<?, ?B/s]"
      ]
     },
     "metadata": {},
     "output_type": "display_data"
    },
    {
     "name": "stderr",
     "output_type": "stream",
     "text": [
      "You are using the default legacy behaviour of the <class 'transformers.models.t5.tokenization_t5.T5Tokenizer'>. This is expected, and simply means that the `legacy` (previous) behavior will be used so nothing changes for you. If you want to use the new behaviour, set `legacy=False`. This should only be set if you understand what it means, and thoroughly read the reason why this was added as explained in https://github.com/huggingface/transformers/pull/24565\n",
      "/opt/saturncloud/envs/saturn/lib/python3.9/site-packages/transformers/tokenization_utils_base.py:1601: FutureWarning: `clean_up_tokenization_spaces` was not set. It will be set to `True` by default. This behavior will be depracted in transformers v4.45, and will be then set to `False` by default. For more details check this issue: https://github.com/huggingface/transformers/issues/31884\n",
      "  warnings.warn(\n"
     ]
    },
    {
     "data": {
      "application/vnd.jupyter.widget-view+json": {
       "model_id": "51b45a69697a4641ba91992ca1dfa8bb",
       "version_major": 2,
       "version_minor": 0
      },
      "text/plain": [
       "config.json:   0%|          | 0.00/1.44k [00:00<?, ?B/s]"
      ]
     },
     "metadata": {},
     "output_type": "display_data"
    },
    {
     "data": {
      "application/vnd.jupyter.widget-view+json": {
       "model_id": "6357b5af8e724d0f9e12a504150f03e8",
       "version_major": 2,
       "version_minor": 0
      },
      "text/plain": [
       "model.safetensors.index.json:   0%|          | 0.00/53.0k [00:00<?, ?B/s]"
      ]
     },
     "metadata": {},
     "output_type": "display_data"
    },
    {
     "data": {
      "application/vnd.jupyter.widget-view+json": {
       "model_id": "311f091c8bb74514a84513e6cebd5c0d",
       "version_major": 2,
       "version_minor": 0
      },
      "text/plain": [
       "Downloading shards:   0%|          | 0/2 [00:00<?, ?it/s]"
      ]
     },
     "metadata": {},
     "output_type": "display_data"
    },
    {
     "data": {
      "application/vnd.jupyter.widget-view+json": {
       "model_id": "1a7a553c3c93478ea7fffc8ae84cd1ab",
       "version_major": 2,
       "version_minor": 0
      },
      "text/plain": [
       "model-00001-of-00002.safetensors:   0%|          | 0.00/9.45G [00:00<?, ?B/s]"
      ]
     },
     "metadata": {},
     "output_type": "display_data"
    },
    {
     "data": {
      "application/vnd.jupyter.widget-view+json": {
       "model_id": "1b91ccd13f0b4b63881454731c0ae5fe",
       "version_major": 2,
       "version_minor": 0
      },
      "text/plain": [
       "model-00002-of-00002.safetensors:   0%|          | 0.00/1.95G [00:00<?, ?B/s]"
      ]
     },
     "metadata": {},
     "output_type": "display_data"
    },
    {
     "data": {
      "application/vnd.jupyter.widget-view+json": {
       "model_id": "675ed4422df842f39bb3f4165a28214b",
       "version_major": 2,
       "version_minor": 0
      },
      "text/plain": [
       "Loading checkpoint shards:   0%|          | 0/2 [00:00<?, ?it/s]"
      ]
     },
     "metadata": {},
     "output_type": "display_data"
    },
    {
     "data": {
      "application/vnd.jupyter.widget-view+json": {
       "model_id": "12896542b099421e89b572146606af33",
       "version_major": 2,
       "version_minor": 0
      },
      "text/plain": [
       "generation_config.json:   0%|          | 0.00/147 [00:00<?, ?B/s]"
      ]
     },
     "metadata": {},
     "output_type": "display_data"
    }
   ],
   "source": [
    "tokenizer = T5Tokenizer.from_pretrained(\"google/flan-t5-xl\")\n",
    "model = T5ForConditionalGeneration.from_pretrained(\"google/flan-t5-xl\", device_map=\"auto\")"
   ]
  },
  {
   "cell_type": "code",
   "execution_count": null,
   "metadata": {},
   "outputs": [],
   "source": [
    "input_text = \"translate English to German: How old are you?\"\n",
    "input_ids = tokenizer(input_text, return_tensors=\"pt\").input_ids.to(\"cuda\")\n",
    "\n",
    "outputs = model.generate(input_ids)\n",
    "print(tokenizer.decode(outputs[0]))"
   ]
  },
  {
   "cell_type": "code",
   "execution_count": 10,
   "metadata": {
    "execution": {
     "iopub.execute_input": "2024-09-15T06:05:59.810195Z",
     "iopub.status.busy": "2024-09-15T06:05:59.809735Z",
     "iopub.status.idle": "2024-09-15T06:05:59.826386Z",
     "shell.execute_reply": "2024-09-15T06:05:59.825538Z",
     "shell.execute_reply.started": "2024-09-15T06:05:59.810166Z"
    }
   },
   "outputs": [],
   "source": [
    "test_df = pd.read_csv('test.csv')"
   ]
  },
  {
   "cell_type": "code",
   "execution_count": 11,
   "metadata": {
    "execution": {
     "iopub.execute_input": "2024-09-15T06:06:01.409687Z",
     "iopub.status.busy": "2024-09-15T06:06:01.409286Z",
     "iopub.status.idle": "2024-09-15T06:06:01.435075Z",
     "shell.execute_reply": "2024-09-15T06:06:01.434295Z",
     "shell.execute_reply.started": "2024-09-15T06:06:01.409660Z"
    }
   },
   "outputs": [
    {
     "data": {
      "text/html": [
       "<div>\n",
       "<style scoped>\n",
       "    .dataframe tbody tr th:only-of-type {\n",
       "        vertical-align: middle;\n",
       "    }\n",
       "\n",
       "    .dataframe tbody tr th {\n",
       "        vertical-align: top;\n",
       "    }\n",
       "\n",
       "    .dataframe thead th {\n",
       "        text-align: right;\n",
       "    }\n",
       "</style>\n",
       "<table border=\"1\" class=\"dataframe\">\n",
       "  <thead>\n",
       "    <tr style=\"text-align: right;\">\n",
       "      <th></th>\n",
       "      <th>problem_id</th>\n",
       "      <th>problem_text</th>\n",
       "    </tr>\n",
       "  </thead>\n",
       "  <tbody>\n",
       "    <tr>\n",
       "      <th>0</th>\n",
       "      <td>11919</td>\n",
       "      <td>Find the value of the expression \\(4.8 \\cdot 2...</td>\n",
       "    </tr>\n",
       "    <tr>\n",
       "      <th>1</th>\n",
       "      <td>8513</td>\n",
       "      <td>The plane's navigation system informs the pass...</td>\n",
       "    </tr>\n",
       "    <tr>\n",
       "      <th>2</th>\n",
       "      <td>7887</td>\n",
       "      <td>The volume of a rectangular parallelepiped is ...</td>\n",
       "    </tr>\n",
       "    <tr>\n",
       "      <th>3</th>\n",
       "      <td>5272</td>\n",
       "      <td>Find the root of the equation: $\\left(\\dfrac{1...</td>\n",
       "    </tr>\n",
       "    <tr>\n",
       "      <th>4</th>\n",
       "      <td>8295</td>\n",
       "      <td>At the school, there are two-person camping te...</td>\n",
       "    </tr>\n",
       "    <tr>\n",
       "      <th>...</th>\n",
       "      <td>...</td>\n",
       "      <td>...</td>\n",
       "    </tr>\n",
       "    <tr>\n",
       "      <th>95</th>\n",
       "      <td>3519</td>\n",
       "      <td>A tourist is selecting tours. Information abou...</td>\n",
       "    </tr>\n",
       "    <tr>\n",
       "      <th>96</th>\n",
       "      <td>7934</td>\n",
       "      <td>The area of a triangle can be calculated using...</td>\n",
       "    </tr>\n",
       "    <tr>\n",
       "      <th>97</th>\n",
       "      <td>9390</td>\n",
       "      <td>A construction contractor plans to buy 20 tons...</td>\n",
       "    </tr>\n",
       "    <tr>\n",
       "      <th>98</th>\n",
       "      <td>7137</td>\n",
       "      <td>The number of road traffic accidents (RTAs) in...</td>\n",
       "    </tr>\n",
       "    <tr>\n",
       "      <th>99</th>\n",
       "      <td>5914</td>\n",
       "      <td>Find the value of the expression $\\dfrac{2.4\\c...</td>\n",
       "    </tr>\n",
       "  </tbody>\n",
       "</table>\n",
       "<p>100 rows × 2 columns</p>\n",
       "</div>"
      ],
      "text/plain": [
       "    problem_id                                       problem_text\n",
       "0        11919  Find the value of the expression \\(4.8 \\cdot 2...\n",
       "1         8513  The plane's navigation system informs the pass...\n",
       "2         7887  The volume of a rectangular parallelepiped is ...\n",
       "3         5272  Find the root of the equation: $\\left(\\dfrac{1...\n",
       "4         8295  At the school, there are two-person camping te...\n",
       "..         ...                                                ...\n",
       "95        3519  A tourist is selecting tours. Information abou...\n",
       "96        7934  The area of a triangle can be calculated using...\n",
       "97        9390  A construction contractor plans to buy 20 tons...\n",
       "98        7137  The number of road traffic accidents (RTAs) in...\n",
       "99        5914  Find the value of the expression $\\dfrac{2.4\\c...\n",
       "\n",
       "[100 rows x 2 columns]"
      ]
     },
     "execution_count": 11,
     "metadata": {},
     "output_type": "execute_result"
    }
   ],
   "source": [
    "test_df"
   ]
  },
  {
   "cell_type": "code",
   "execution_count": 17,
   "metadata": {
    "execution": {
     "iopub.execute_input": "2024-09-15T06:16:56.280188Z",
     "iopub.status.busy": "2024-09-15T06:16:56.279758Z",
     "iopub.status.idle": "2024-09-15T06:16:56.284951Z",
     "shell.execute_reply": "2024-09-15T06:16:56.284150Z",
     "shell.execute_reply.started": "2024-09-15T06:16:56.280157Z"
    },
    "tags": []
   },
   "outputs": [],
   "source": [
    "def llm(prompt):\n",
    "    input_ids = tokenizer(prompt, return_tensors=\"pt\").input_ids.to(\"cuda\")\n",
    "    outputs = model.generate(\n",
    "        input_ids,\n",
    "        max_length=100\n",
    "    )\n",
    "    return tokenizer.decode(outputs[0], skip_special_tokens=True)"
   ]
  },
  {
   "cell_type": "code",
   "execution_count": 30,
   "metadata": {
    "execution": {
     "iopub.execute_input": "2024-09-15T06:22:13.628465Z",
     "iopub.status.busy": "2024-09-15T06:22:13.628086Z",
     "iopub.status.idle": "2024-09-15T06:22:13.633932Z",
     "shell.execute_reply": "2024-09-15T06:22:13.633144Z",
     "shell.execute_reply.started": "2024-09-15T06:22:13.628438Z"
    },
    "tags": []
   },
   "outputs": [],
   "source": [
    "import re\n",
    "\n",
    "def get_answer(question):\n",
    "    prompt = f\"\"\"Please solve the following high school math problem step by step. Explain your reasoning clearly and provide the final answer.\n",
    "\n",
    "{question}\n",
    "\n",
    "Step-by-step solution and final answer:\"\"\"\n",
    "\n",
    "    return llm(prompt)\n",
    "\n",
    "def parse_answer(question, message):\n",
    "    prompt = f\"\"\" Please analyze the solution for a given problem, fix it if needed, and then provide the final answer.         \n",
    "\n",
    "    \n",
    "Q: {question}\n",
    "\n",
    "Solution: {message}\n",
    "\n",
    "final answer:\n",
    "    \n",
    "    \"\"\"\n",
    "    \n",
    "    return llm(prompt)\n",
    "\n",
    "\n",
    "def extract_numerical_answer(text):\n",
    "    # Look for patterns like \"Final answer: X\" or \"The answer is X\" at the end of the text\n",
    "    match = re.search(r'(?:final answer|the answer is)[:\\s]*([+-]?\\d*\\.?\\d+)', text, re.IGNORECASE)\n",
    "    if match:\n",
    "        return float(match.group(1))\n",
    "    else:\n",
    "        # If no clear final answer, look for the last number in the text\n",
    "        numbers = re.findall(r'[+-]?\\d*\\.?\\d+', text)\n",
    "        return float(numbers[-1]) if numbers else 1.0"
   ]
  },
  {
   "cell_type": "code",
   "execution_count": 35,
   "metadata": {
    "execution": {
     "iopub.execute_input": "2024-09-15T06:22:46.968742Z",
     "iopub.status.busy": "2024-09-15T06:22:46.968339Z",
     "iopub.status.idle": "2024-09-15T06:22:49.264778Z",
     "shell.execute_reply": "2024-09-15T06:22:49.263950Z",
     "shell.execute_reply.started": "2024-09-15T06:22:46.968714Z"
    },
    "tags": []
   },
   "outputs": [
    {
     "data": {
      "text/plain": [
       "'If they ate the jam equally, the Bear ate 4 * 51 = 228 cookies. If they ate the jam equally, Masha ate 228 / 2 = 126 cookies. If the Bear ate 228 / 4 = 68 cookies, the Bear ate 68 / 2 = 32 cookies. The final answer: 32.'"
      ]
     },
     "execution_count": 35,
     "metadata": {},
     "output_type": "execute_result"
    }
   ],
   "source": [
    "question = test_df.iloc[10]['problem_text']\n",
    "response_1 = get_answer(question)\n",
    "response_1 = response_1.strip()\n",
    "response_1"
   ]
  },
  {
   "cell_type": "code",
   "execution_count": 36,
   "metadata": {
    "execution": {
     "iopub.execute_input": "2024-09-15T06:22:51.109898Z",
     "iopub.status.busy": "2024-09-15T06:22:51.109473Z",
     "iopub.status.idle": "2024-09-15T06:22:51.641992Z",
     "shell.execute_reply": "2024-09-15T06:22:51.641071Z",
     "shell.execute_reply.started": "2024-09-15T06:22:51.109872Z"
    },
    "tags": []
   },
   "outputs": [
    {
     "data": {
      "text/plain": [
       "'The Bear ate 4 * 51 = 228 cookies.'"
      ]
     },
     "execution_count": 36,
     "metadata": {},
     "output_type": "execute_result"
    }
   ],
   "source": [
    "response_2 = parse_answer(question, response_1)\n",
    "response_2 = response_2.strip()\n",
    "response_2"
   ]
  },
  {
   "cell_type": "code",
   "execution_count": 37,
   "metadata": {
    "execution": {
     "iopub.execute_input": "2024-09-15T06:23:02.795750Z",
     "iopub.status.busy": "2024-09-15T06:23:02.795358Z",
     "iopub.status.idle": "2024-09-15T06:23:03.324528Z",
     "shell.execute_reply": "2024-09-15T06:23:03.323802Z",
     "shell.execute_reply.started": "2024-09-15T06:23:02.795724Z"
    }
   },
   "outputs": [
    {
     "data": {
      "text/plain": [
       "228.0"
      ]
     },
     "execution_count": 37,
     "metadata": {},
     "output_type": "execute_result"
    }
   ],
   "source": [
    "numerical_answer = extract_numerical_answer(parse_answer(question, response_1))\n",
    "numerical_answer"
   ]
  },
  {
   "cell_type": "code",
   "execution_count": 38,
   "metadata": {
    "execution": {
     "iopub.execute_input": "2024-09-15T06:23:38.061565Z",
     "iopub.status.busy": "2024-09-15T06:23:38.060910Z",
     "iopub.status.idle": "2024-09-15T06:27:13.543837Z",
     "shell.execute_reply": "2024-09-15T06:27:13.543195Z",
     "shell.execute_reply.started": "2024-09-15T06:23:38.061537Z"
    },
    "tags": []
   },
   "outputs": [
    {
     "name": "stderr",
     "output_type": "stream",
     "text": [
      "100%|██████████| 100/100 [03:35<00:00,  2.15s/it]\n"
     ]
    }
   ],
   "source": [
    "from tqdm import tqdm\n",
    "\n",
    "GLOBAL_SOLUTIONS_FOR_SUBMISSION = []\n",
    "\n",
    "for idx, row in tqdm(test_df.iterrows(), total=len(test_df)):\n",
    "\n",
    "    question = row['problem_text']\n",
    "    response_1 = get_answer(question)\n",
    "    response_1 = response_1.strip()\n",
    "    \n",
    "    # response_2 = parse_answer(question, response_1)\n",
    "    # response_2 = response_2.strip()\n",
    "    \n",
    "    numerical_answer = extract_numerical_answer(response_1)\n",
    "    \n",
    "    GLOBAL_SOLUTIONS_FOR_SUBMISSION.append({\n",
    "        'problem_id': row['problem_id'],\n",
    "        'llm_out_1': response_1,\n",
    "        # 'llm_out_2': response_2,\n",
    "        'answer': numerical_answer\n",
    "    })\n",
    "    \n",
    "pd.DataFrame(GLOBAL_SOLUTIONS_FOR_SUBMISSION).to_csv('baseline_answers_with_double_check.csv', index=False)"
   ]
  },
  {
   "cell_type": "code",
   "execution_count": 41,
   "metadata": {
    "execution": {
     "iopub.execute_input": "2024-09-15T06:28:52.588267Z",
     "iopub.status.busy": "2024-09-15T06:28:52.587859Z",
     "iopub.status.idle": "2024-09-15T06:28:52.594637Z",
     "shell.execute_reply": "2024-09-15T06:28:52.593711Z",
     "shell.execute_reply.started": "2024-09-15T06:28:52.588241Z"
    },
    "tags": []
   },
   "outputs": [],
   "source": [
    "pd.DataFrame(GLOBAL_SOLUTIONS_FOR_SUBMISSION)[['problem_id', 'answer']].to_csv('flan_t5_submission.csv', index=False)"
   ]
  },
  {
   "cell_type": "code",
   "execution_count": 42,
   "metadata": {
    "execution": {
     "iopub.execute_input": "2024-09-15T06:32:03.153320Z",
     "iopub.status.busy": "2024-09-15T06:32:03.152938Z",
     "iopub.status.idle": "2024-09-15T06:32:03.767817Z",
     "shell.execute_reply": "2024-09-15T06:32:03.767022Z",
     "shell.execute_reply.started": "2024-09-15T06:32:03.153295Z"
    }
   },
   "outputs": [
    {
     "name": "stdout",
     "output_type": "stream",
     "text": [
      "Filesystem      Size  Used Avail Use% Mounted on\n",
      "overlay         100G   60G   41G  60% /\n",
      "tmpfs            64M     0   64M   0% /dev\n",
      "tmpfs           7.7G     0  7.7G   0% /sys/fs/cgroup\n",
      "/dev/nvme0n1p1  100G   60G   41G  60% /run\n",
      "tmpfs            14G  4.0K   14G   1% /dev/shm\n",
      "/dev/nvme2n1    2.0G  148M  1.8G   8% /home/jovyan\n",
      "tmpfs            14G  120K   14G   1% /home/jovyan/.saturn\n",
      "tmpfs            14G   12K   14G   1% /run/secrets/kubernetes.io/serviceaccount\n",
      "tmpfs           7.7G   12K  7.7G   1% /proc/driver/nvidia\n",
      "tmpfs           7.7G  3.0M  7.7G   1% /run/nvidia-persistenced/socket\n",
      "tmpfs           7.7G     0  7.7G   0% /proc/acpi\n",
      "tmpfs           7.7G     0  7.7G   0% /sys/firmware\n"
     ]
    }
   ],
   "source": [
    "!df -h"
   ]
  },
  {
   "cell_type": "code",
   "execution_count": 43,
   "metadata": {
    "execution": {
     "iopub.execute_input": "2024-09-15T06:33:41.125024Z",
     "iopub.status.busy": "2024-09-15T06:33:41.124628Z",
     "iopub.status.idle": "2024-09-15T06:33:41.131774Z",
     "shell.execute_reply": "2024-09-15T06:33:41.131139Z",
     "shell.execute_reply.started": "2024-09-15T06:33:41.124991Z"
    }
   },
   "outputs": [],
   "source": [
    "train_df = pd.read_csv('train.csv')"
   ]
  },
  {
   "cell_type": "code",
   "execution_count": 50,
   "metadata": {
    "execution": {
     "iopub.execute_input": "2024-09-15T06:35:03.840591Z",
     "iopub.status.busy": "2024-09-15T06:35:03.840211Z",
     "iopub.status.idle": "2024-09-15T06:35:03.849811Z",
     "shell.execute_reply": "2024-09-15T06:35:03.848992Z",
     "shell.execute_reply.started": "2024-09-15T06:35:03.840564Z"
    },
    "tags": []
   },
   "outputs": [
    {
     "data": {
      "text/html": [
       "<div>\n",
       "<style scoped>\n",
       "    .dataframe tbody tr th:only-of-type {\n",
       "        vertical-align: middle;\n",
       "    }\n",
       "\n",
       "    .dataframe tbody tr th {\n",
       "        vertical-align: top;\n",
       "    }\n",
       "\n",
       "    .dataframe thead th {\n",
       "        text-align: right;\n",
       "    }\n",
       "</style>\n",
       "<table border=\"1\" class=\"dataframe\">\n",
       "  <thead>\n",
       "    <tr style=\"text-align: right;\">\n",
       "      <th></th>\n",
       "      <th>problem_id</th>\n",
       "      <th>problem_text</th>\n",
       "      <th>answer</th>\n",
       "    </tr>\n",
       "  </thead>\n",
       "  <tbody>\n",
       "    <tr>\n",
       "      <th>0</th>\n",
       "      <td>2374</td>\n",
       "      <td>Find the value of the expression $\\dfrac{17}{5...</td>\n",
       "      <td>1.6</td>\n",
       "    </tr>\n",
       "    <tr>\n",
       "      <th>1</th>\n",
       "      <td>4723</td>\n",
       "      <td>In a company of 30 people, 25 use the social n...</td>\n",
       "      <td>24</td>\n",
       "    </tr>\n",
       "    <tr>\n",
       "      <th>2</th>\n",
       "      <td>7135</td>\n",
       "      <td>The number of road traffic accidents (RTAs) in...</td>\n",
       "      <td>32</td>\n",
       "    </tr>\n",
       "    <tr>\n",
       "      <th>3</th>\n",
       "      <td>5814</td>\n",
       "      <td>Find the value of the expression $\\dfrac{2\\str...</td>\n",
       "      <td>256</td>\n",
       "    </tr>\n",
       "    <tr>\n",
       "      <th>4</th>\n",
       "      <td>9237</td>\n",
       "      <td>A traveler from Moscow wants to visit four cit...</td>\n",
       "      <td>53</td>\n",
       "    </tr>\n",
       "    <tr>\n",
       "      <th>...</th>\n",
       "      <td>...</td>\n",
       "      <td>...</td>\n",
       "      <td>...</td>\n",
       "    </tr>\n",
       "    <tr>\n",
       "      <th>95</th>\n",
       "      <td>7064</td>\n",
       "      <td>At school, 77 students study French, which is ...</td>\n",
       "      <td>385</td>\n",
       "    </tr>\n",
       "    <tr>\n",
       "      <th>96</th>\n",
       "      <td>7097</td>\n",
       "      <td>Among all the graduates of the school, 10 peop...</td>\n",
       "      <td>25</td>\n",
       "    </tr>\n",
       "    <tr>\n",
       "      <th>97</th>\n",
       "      <td>5448</td>\n",
       "      <td>The probability that a new ballpoint pen write...</td>\n",
       "      <td>0.79</td>\n",
       "    </tr>\n",
       "    <tr>\n",
       "      <th>98</th>\n",
       "      <td>2293</td>\n",
       "      <td>Find the value of the expression \\(2\\dfrac{5}{...</td>\n",
       "      <td>8.5</td>\n",
       "    </tr>\n",
       "    <tr>\n",
       "      <th>99</th>\n",
       "      <td>5261</td>\n",
       "      <td>Find the root of the equation \\(\\left(\\dfrac{1...</td>\n",
       "      <td>5</td>\n",
       "    </tr>\n",
       "  </tbody>\n",
       "</table>\n",
       "<p>100 rows × 3 columns</p>\n",
       "</div>"
      ],
      "text/plain": [
       "    problem_id                                       problem_text answer\n",
       "0         2374  Find the value of the expression $\\dfrac{17}{5...    1.6\n",
       "1         4723  In a company of 30 people, 25 use the social n...     24\n",
       "2         7135  The number of road traffic accidents (RTAs) in...     32\n",
       "3         5814  Find the value of the expression $\\dfrac{2\\str...    256\n",
       "4         9237  A traveler from Moscow wants to visit four cit...     53\n",
       "..         ...                                                ...    ...\n",
       "95        7064  At school, 77 students study French, which is ...    385\n",
       "96        7097  Among all the graduates of the school, 10 peop...     25\n",
       "97        5448  The probability that a new ballpoint pen write...   0.79\n",
       "98        2293  Find the value of the expression \\(2\\dfrac{5}{...    8.5\n",
       "99        5261  Find the root of the equation \\(\\left(\\dfrac{1...      5\n",
       "\n",
       "[100 rows x 3 columns]"
      ]
     },
     "execution_count": 50,
     "metadata": {},
     "output_type": "execute_result"
    }
   ],
   "source": [
    "train_df"
   ]
  },
  {
   "cell_type": "code",
   "execution_count": 58,
   "metadata": {
    "execution": {
     "iopub.execute_input": "2024-09-15T06:36:48.994860Z",
     "iopub.status.busy": "2024-09-15T06:36:48.994466Z",
     "iopub.status.idle": "2024-09-15T06:36:49.000964Z",
     "shell.execute_reply": "2024-09-15T06:36:49.000201Z",
     "shell.execute_reply.started": "2024-09-15T06:36:48.994835Z"
    },
    "tags": []
   },
   "outputs": [
    {
     "data": {
      "text/plain": [
       "1.0"
      ]
     },
     "execution_count": 58,
     "metadata": {},
     "output_type": "execute_result"
    }
   ],
   "source": [
    "(train_df['answer'] == train_df['answer']).sum() / train_df.shape[0]"
   ]
  },
  {
   "cell_type": "code",
   "execution_count": null,
   "metadata": {},
   "outputs": [],
   "source": []
  },
  {
   "cell_type": "code",
   "execution_count": 62,
   "metadata": {
    "execution": {
     "iopub.execute_input": "2024-09-15T06:37:37.756208Z",
     "iopub.status.busy": "2024-09-15T06:37:37.755813Z",
     "iopub.status.idle": "2024-09-15T06:37:37.760158Z",
     "shell.execute_reply": "2024-09-15T06:37:37.759288Z",
     "shell.execute_reply.started": "2024-09-15T06:37:37.756183Z"
    },
    "tags": []
   },
   "outputs": [],
   "source": [
    "def accuracy(y: pd.Series, y_pred: pd.Series):\n",
    "    return (y == y_pred).sum() / y.shape[0]"
   ]
  },
  {
   "cell_type": "code",
   "execution_count": 67,
   "metadata": {
    "execution": {
     "iopub.execute_input": "2024-09-15T06:41:04.914326Z",
     "iopub.status.busy": "2024-09-15T06:41:04.913921Z",
     "iopub.status.idle": "2024-09-15T06:41:23.311341Z",
     "shell.execute_reply": "2024-09-15T06:41:23.310301Z",
     "shell.execute_reply.started": "2024-09-15T06:41:04.914298Z"
    },
    "tags": []
   },
   "outputs": [
    {
     "name": "stderr",
     "output_type": "stream",
     "text": [
      "/tmp/ipykernel_523/3187776187.py:2: DeprecationWarning: DataFrameGroupBy.apply operated on the grouping columns. This behavior is deprecated, and in a future version of pandas the grouping columns will be excluded from the operation. Either pass `include_groups=False` to exclude the groupings or explicitly select the grouping columns after groupby to silence this warning.\n",
      "  train_df.iloc[:10]\n"
     ]
    }
   ],
   "source": [
    "y_pred = (\n",
    "    train_df.iloc[:10]\n",
    "    .groupby('problem_id')\n",
    "    .apply(\n",
    "        lambda x: extract_numerical_answer(get_answer(x['problem_text']).strip())\n",
    "    )\n",
    ")"
   ]
  },
  {
   "cell_type": "code",
   "execution_count": 71,
   "metadata": {
    "execution": {
     "iopub.execute_input": "2024-09-15T06:42:10.579145Z",
     "iopub.status.busy": "2024-09-15T06:42:10.578484Z",
     "iopub.status.idle": "2024-09-15T06:42:10.584999Z",
     "shell.execute_reply": "2024-09-15T06:42:10.584303Z",
     "shell.execute_reply.started": "2024-09-15T06:42:10.579114Z"
    },
    "tags": []
   },
   "outputs": [
    {
     "data": {
      "text/plain": [
       "0.0"
      ]
     },
     "execution_count": 71,
     "metadata": {},
     "output_type": "execute_result"
    }
   ],
   "source": [
    "accuracy(train_df['answer'].iloc[:10], y_pred.reset_index(drop=True))"
   ]
  },
  {
   "cell_type": "code",
   "execution_count": 72,
   "metadata": {
    "execution": {
     "iopub.execute_input": "2024-09-15T06:42:15.818337Z",
     "iopub.status.busy": "2024-09-15T06:42:15.817939Z",
     "iopub.status.idle": "2024-09-15T06:42:15.824045Z",
     "shell.execute_reply": "2024-09-15T06:42:15.823429Z",
     "shell.execute_reply.started": "2024-09-15T06:42:15.818310Z"
    },
    "tags": []
   },
   "outputs": [
    {
     "data": {
      "text/plain": [
       "0     0.0\n",
       "1     1.0\n",
       "2     6.0\n",
       "3    25.0\n",
       "4     2.0\n",
       "5     1.0\n",
       "6     1.0\n",
       "7     1.0\n",
       "8    11.0\n",
       "9     1.0\n",
       "dtype: float64"
      ]
     },
     "execution_count": 72,
     "metadata": {},
     "output_type": "execute_result"
    }
   ],
   "source": [
    "y_pred.reset_index(drop=True)"
   ]
  },
  {
   "cell_type": "code",
   "execution_count": 73,
   "metadata": {
    "execution": {
     "iopub.execute_input": "2024-09-15T06:42:20.066188Z",
     "iopub.status.busy": "2024-09-15T06:42:20.065798Z",
     "iopub.status.idle": "2024-09-15T06:42:20.072232Z",
     "shell.execute_reply": "2024-09-15T06:42:20.071606Z",
     "shell.execute_reply.started": "2024-09-15T06:42:20.066162Z"
    },
    "tags": []
   },
   "outputs": [
    {
     "data": {
      "text/plain": [
       "0             1.6\n",
       "1              24\n",
       "2              32\n",
       "3             256\n",
       "4              53\n",
       "5               3\n",
       "6    27000; 64000\n",
       "7               2\n",
       "8             0.1\n",
       "9             1.2\n",
       "Name: answer, dtype: object"
      ]
     },
     "execution_count": 73,
     "metadata": {},
     "output_type": "execute_result"
    }
   ],
   "source": [
    "train_df['answer'].iloc[:10]"
   ]
  },
  {
   "cell_type": "code",
   "execution_count": null,
   "metadata": {},
   "outputs": [],
   "source": []
  }
 ],
 "metadata": {
  "kernelspec": {
   "display_name": "saturn (Python 3)",
   "language": "python",
   "name": "python3"
  },
  "language_info": {
   "codemirror_mode": {
    "name": "ipython",
    "version": 3
   },
   "file_extension": ".py",
   "mimetype": "text/x-python",
   "name": "python",
   "nbconvert_exporter": "python",
   "pygments_lexer": "ipython3",
   "version": "3.9.18"
  }
 },
 "nbformat": 4,
 "nbformat_minor": 4
}
