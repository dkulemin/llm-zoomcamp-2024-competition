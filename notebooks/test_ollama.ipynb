{
 "cells": [
  {
   "cell_type": "code",
   "execution_count": 12,
   "metadata": {},
   "outputs": [],
   "source": [
    "from openai import OpenAI\n",
    "import pandas as pd"
   ]
  },
  {
   "cell_type": "code",
   "execution_count": 2,
   "metadata": {},
   "outputs": [],
   "source": [
    "client = OpenAI(\n",
    "    base_url='http://localhost:11434/v1/',\n",
    "    api_key='ollama',\n",
    ")"
   ]
  },
  {
   "cell_type": "code",
   "execution_count": 6,
   "metadata": {},
   "outputs": [
    {
     "name": "stdout",
     "output_type": "stream",
     "text": [
      "zsh:1: command not found: ollama\n"
     ]
    }
   ],
   "source": [
    "# ollama pull gemma:2b"
   ]
  },
  {
   "cell_type": "code",
   "execution_count": 7,
   "metadata": {},
   "outputs": [
    {
     "data": {
      "text/plain": [
       "\"Sure, here's your answer:\\n\\n10 * 10 = 100.\\n\\nIs there anything else I can help you with today?\""
      ]
     },
     "execution_count": 7,
     "metadata": {},
     "output_type": "execute_result"
    }
   ],
   "source": [
    "response = client.chat.completions.create(\n",
    "    model='gemma:2b',\n",
    "    messages=[{\"role\": \"user\", \"content\": \"10 * 10\"}]\n",
    ")\n",
    "\n",
    "response.choices[0].message.content"
   ]
  },
  {
   "cell_type": "code",
   "execution_count": 10,
   "metadata": {},
   "outputs": [
    {
     "name": "stdout",
     "output_type": "stream",
     "text": [
      "  % Total    % Received % Xferd  Average Speed   Time    Time     Time  Current\n",
      "                                 Dload  Upload   Total   Spent    Left  Speed\n",
      "100 28804  100 28804    0     0  21694      0  0:00:01  0:00:01 --:--:-- 21689\n"
     ]
    }
   ],
   "source": [
    "!curl 'https://storage.googleapis.com/kagglesdsdata/competitions/80878/8891242/test.csv?GoogleAccessId=web-data@kaggle-161607.iam.gserviceaccount.com&Expires=1726639218&Signature=KYEElr57HG9qaDEikT5%2BXK7b2CIS%2F7%2BPCEoHwXcUG2Tu1zqVlfSRiUgB%2BZCKrHKB3YY%2FfXq%2BhkppRakvguxACp45cWjiPpOktET8JI9MrjvRBENI1JW0qxGuDz6w2kh2YpjNqSOhx%2FMyW4g2zEqdSzvm56JRgqIWRYWEU2LR%2Bv0uJJymeqJQJoo%2FiSOahxESt5GY75PvezN54zfm%2BeRhKbEy7ZaFZYFejGIIb4L%2BhSA%2B%2Bm5vKmVukVvnbZ3Upg0KHe6U2%2BN3DXQSmSJI%2Fu7jkLpaQ1E3YrnBJdGjNW3CudlyrW4mg9y03O9i4Py0GJ8VZODw43wZx5YKuP0h6OCWnw%3D%3D&response-content-disposition=attachment%3B+filename%3Dtest.csv' \\\n",
    "  -H 'accept: text/html,application/xhtml+xml,application/xml;q=0.9,image/avif,image/webp,image/apng,*/*;q=0.8,application/signed-exchange;v=b3;q=0.7' \\\n",
    "  -H 'accept-language: ru-RU,ru;q=0.9,en-US;q=0.8,en;q=0.7' \\\n",
    "  -H 'priority: u=0, i' \\\n",
    "  -H 'referer: https://www.kaggle.com/' \\\n",
    "  -H 'sec-ch-ua: \"Chromium\";v=\"128\", \"Not;A=Brand\";v=\"24\", \"Google Chrome\";v=\"128\"' \\\n",
    "  -H 'sec-ch-ua-arch: \"arm\"' \\\n",
    "  -H 'sec-ch-ua-bitness: \"64\"' \\\n",
    "  -H 'sec-ch-ua-full-version-list: \"Chromium\";v=\"128.0.6613.120\", \"Not;A=Brand\";v=\"24.0.0.0\", \"Google Chrome\";v=\"128.0.6613.120\"' \\\n",
    "  -H 'sec-ch-ua-mobile: ?0' \\\n",
    "  -H 'sec-ch-ua-model: \"\"' \\\n",
    "  -H 'sec-ch-ua-platform: \"macOS\"' \\\n",
    "  -H 'sec-ch-ua-platform-version: \"14.6.1\"' \\\n",
    "  -H 'sec-ch-ua-wow64: ?0' \\\n",
    "  -H 'sec-fetch-dest: document' \\\n",
    "  -H 'sec-fetch-mode: navigate' \\\n",
    "  -H 'sec-fetch-site: cross-site' \\\n",
    "  -H 'sec-fetch-user: ?1' \\\n",
    "  -H 'upgrade-insecure-requests: 1' \\\n",
    "  -H 'user-agent: Mozilla/5.0 (Macintosh; Intel Mac OS X 10_15_7) AppleWebKit/537.36 (KHTML, like Gecko) Chrome/128.0.0.0 Safari/537.36' \\\n",
    "  -H 'x-client-data: CIe2yQEIprbJAQipncoBCMDdygEIlKHLAQiGoM0BCNm9zgEYj87NAQ==' \\\n",
    "  -o '../data/test.csv'"
   ]
  },
  {
   "cell_type": "code",
   "execution_count": 13,
   "metadata": {},
   "outputs": [],
   "source": [
    "test_df = pd.read_csv('../data/test.csv')"
   ]
  },
  {
   "cell_type": "code",
   "execution_count": null,
   "metadata": {},
   "outputs": [],
   "source": []
  }
 ],
 "metadata": {
  "kernelspec": {
   "display_name": ".venv",
   "language": "python",
   "name": "python3"
  },
  "language_info": {
   "codemirror_mode": {
    "name": "ipython",
    "version": 3
   },
   "file_extension": ".py",
   "mimetype": "text/x-python",
   "name": "python",
   "nbconvert_exporter": "python",
   "pygments_lexer": "ipython3",
   "version": "3.9.6"
  }
 },
 "nbformat": 4,
 "nbformat_minor": 2
}
