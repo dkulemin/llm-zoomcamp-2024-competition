{
 "cells": [
  {
   "cell_type": "code",
   "execution_count": 2,
   "metadata": {},
   "outputs": [
    {
     "name": "stderr",
     "output_type": "stream",
     "text": [
      "/Users/d.kulemin/Projects/llm-zoomcamp-2024-competition/.venv/lib/python3.9/site-packages/tqdm/auto.py:21: TqdmWarning: IProgress not found. Please update jupyter and ipywidgets. See https://ipywidgets.readthedocs.io/en/stable/user_install.html\n",
      "  from .autonotebook import tqdm as notebook_tqdm\n"
     ]
    }
   ],
   "source": [
    "import re\n",
    "\n",
    "from openai import OpenAI\n",
    "import pandas as pd\n",
    "from tqdm.auto import tqdm"
   ]
  },
  {
   "cell_type": "code",
   "execution_count": 7,
   "metadata": {},
   "outputs": [],
   "source": [
    "MODEL = 'wizard-math:7b'"
   ]
  },
  {
   "cell_type": "code",
   "execution_count": 3,
   "metadata": {},
   "outputs": [],
   "source": [
    "tqdm.pandas()"
   ]
  },
  {
   "cell_type": "code",
   "execution_count": 118,
   "metadata": {},
   "outputs": [],
   "source": [
    "client = OpenAI(\n",
    "    base_url='http://localhost:11434/v1/',\n",
    "    api_key='ollama'\n",
    ")"
   ]
  },
  {
   "cell_type": "code",
   "execution_count": 6,
   "metadata": {},
   "outputs": [
    {
     "name": "stdout",
     "output_type": "stream",
     "text": [
      "zsh:1: command not found: ollama\n"
     ]
    }
   ],
   "source": [
    "# ollama pull gemma:2b"
   ]
  },
  {
   "cell_type": "code",
   "execution_count": 8,
   "metadata": {},
   "outputs": [
    {
     "name": "stdout",
     "output_type": "stream",
     "text": [
      "To multiply two numbers, we need to multiply each digit of one number by each digit of the other number and then add up all the results. \n",
      "\n",
      "Step 1: We start with the first digit of the first number (10), which is 1. We multiply this by the first digit of the second number (10), which is also 1. So, 1 * 1 = 1.\n",
      "\n",
      "Step 2: Next, we move to the second digit of the first number (also 0) and multiply it by the first digit of the second number (which is still 1). So, 0 * 1 = 0.\n",
      "\n",
      "Step 3: We then move to the second digit of the first number (still 0) and multiply it by the second digit of the second number (which is now 0). So, 0 * 0 = 0.\n",
      "\n",
      "Final Step: We add up all these results (1 + 0 + 0) which gives us 1.\n",
      "\n",
      "So, 10 * 10 = 100.\n",
      "\n",
      "The answer is: 10.\n"
     ]
    }
   ],
   "source": [
    "response = client.chat.completions.create(\n",
    "    model=MODEL,\n",
    "    messages=[{\"role\": \"user\", \"content\": \"10 * 10\"}]\n",
    ")\n",
    "\n",
    "print(response.choices[0].message.content)"
   ]
  },
  {
   "cell_type": "code",
   "execution_count": 10,
   "metadata": {},
   "outputs": [
    {
     "name": "stdout",
     "output_type": "stream",
     "text": [
      "  % Total    % Received % Xferd  Average Speed   Time    Time     Time  Current\n",
      "                                 Dload  Upload   Total   Spent    Left  Speed\n",
      "100 28804  100 28804    0     0  21694      0  0:00:01  0:00:01 --:--:-- 21689\n"
     ]
    }
   ],
   "source": [
    "!curl 'https://storage.googleapis.com/kagglesdsdata/competitions/80878/8891242/test.csv?GoogleAccessId=web-data@kaggle-161607.iam.gserviceaccount.com&Expires=1726639218&Signature=KYEElr57HG9qaDEikT5%2BXK7b2CIS%2F7%2BPCEoHwXcUG2Tu1zqVlfSRiUgB%2BZCKrHKB3YY%2FfXq%2BhkppRakvguxACp45cWjiPpOktET8JI9MrjvRBENI1JW0qxGuDz6w2kh2YpjNqSOhx%2FMyW4g2zEqdSzvm56JRgqIWRYWEU2LR%2Bv0uJJymeqJQJoo%2FiSOahxESt5GY75PvezN54zfm%2BeRhKbEy7ZaFZYFejGIIb4L%2BhSA%2B%2Bm5vKmVukVvnbZ3Upg0KHe6U2%2BN3DXQSmSJI%2Fu7jkLpaQ1E3YrnBJdGjNW3CudlyrW4mg9y03O9i4Py0GJ8VZODw43wZx5YKuP0h6OCWnw%3D%3D&response-content-disposition=attachment%3B+filename%3Dtest.csv' \\\n",
    "  -H 'accept: text/html,application/xhtml+xml,application/xml;q=0.9,image/avif,image/webp,image/apng,*/*;q=0.8,application/signed-exchange;v=b3;q=0.7' \\\n",
    "  -H 'accept-language: ru-RU,ru;q=0.9,en-US;q=0.8,en;q=0.7' \\\n",
    "  -H 'priority: u=0, i' \\\n",
    "  -H 'referer: https://www.kaggle.com/' \\\n",
    "  -H 'sec-ch-ua: \"Chromium\";v=\"128\", \"Not;A=Brand\";v=\"24\", \"Google Chrome\";v=\"128\"' \\\n",
    "  -H 'sec-ch-ua-arch: \"arm\"' \\\n",
    "  -H 'sec-ch-ua-bitness: \"64\"' \\\n",
    "  -H 'sec-ch-ua-full-version-list: \"Chromium\";v=\"128.0.6613.120\", \"Not;A=Brand\";v=\"24.0.0.0\", \"Google Chrome\";v=\"128.0.6613.120\"' \\\n",
    "  -H 'sec-ch-ua-mobile: ?0' \\\n",
    "  -H 'sec-ch-ua-model: \"\"' \\\n",
    "  -H 'sec-ch-ua-platform: \"macOS\"' \\\n",
    "  -H 'sec-ch-ua-platform-version: \"14.6.1\"' \\\n",
    "  -H 'sec-ch-ua-wow64: ?0' \\\n",
    "  -H 'sec-fetch-dest: document' \\\n",
    "  -H 'sec-fetch-mode: navigate' \\\n",
    "  -H 'sec-fetch-site: cross-site' \\\n",
    "  -H 'sec-fetch-user: ?1' \\\n",
    "  -H 'upgrade-insecure-requests: 1' \\\n",
    "  -H 'user-agent: Mozilla/5.0 (Macintosh; Intel Mac OS X 10_15_7) AppleWebKit/537.36 (KHTML, like Gecko) Chrome/128.0.0.0 Safari/537.36' \\\n",
    "  -H 'x-client-data: CIe2yQEIprbJAQipncoBCMDdygEIlKHLAQiGoM0BCNm9zgEYj87NAQ==' \\\n",
    "  -o '../data/test.csv'"
   ]
  },
  {
   "cell_type": "code",
   "execution_count": 9,
   "metadata": {},
   "outputs": [],
   "source": [
    "test_df = pd.read_csv('../data/test.csv')\n",
    "train_df = pd.read_csv('../data/train.csv')"
   ]
  },
  {
   "cell_type": "code",
   "execution_count": 14,
   "metadata": {},
   "outputs": [
    {
     "data": {
      "text/html": [
       "<div>\n",
       "<style scoped>\n",
       "    .dataframe tbody tr th:only-of-type {\n",
       "        vertical-align: middle;\n",
       "    }\n",
       "\n",
       "    .dataframe tbody tr th {\n",
       "        vertical-align: top;\n",
       "    }\n",
       "\n",
       "    .dataframe thead th {\n",
       "        text-align: right;\n",
       "    }\n",
       "</style>\n",
       "<table border=\"1\" class=\"dataframe\">\n",
       "  <thead>\n",
       "    <tr style=\"text-align: right;\">\n",
       "      <th></th>\n",
       "      <th>problem_id</th>\n",
       "      <th>problem_text</th>\n",
       "      <th>answer</th>\n",
       "    </tr>\n",
       "  </thead>\n",
       "  <tbody>\n",
       "    <tr>\n",
       "      <th>0</th>\n",
       "      <td>2374</td>\n",
       "      <td>Find the value of the expression $\\dfrac{17}{5...</td>\n",
       "      <td>1.6</td>\n",
       "    </tr>\n",
       "    <tr>\n",
       "      <th>1</th>\n",
       "      <td>4723</td>\n",
       "      <td>In a company of 30 people, 25 use the social n...</td>\n",
       "      <td>24</td>\n",
       "    </tr>\n",
       "    <tr>\n",
       "      <th>2</th>\n",
       "      <td>7135</td>\n",
       "      <td>The number of road traffic accidents (RTAs) in...</td>\n",
       "      <td>32</td>\n",
       "    </tr>\n",
       "    <tr>\n",
       "      <th>3</th>\n",
       "      <td>5814</td>\n",
       "      <td>Find the value of the expression $\\dfrac{2\\str...</td>\n",
       "      <td>256</td>\n",
       "    </tr>\n",
       "    <tr>\n",
       "      <th>4</th>\n",
       "      <td>9237</td>\n",
       "      <td>A traveler from Moscow wants to visit four cit...</td>\n",
       "      <td>53</td>\n",
       "    </tr>\n",
       "    <tr>\n",
       "      <th>...</th>\n",
       "      <td>...</td>\n",
       "      <td>...</td>\n",
       "      <td>...</td>\n",
       "    </tr>\n",
       "    <tr>\n",
       "      <th>95</th>\n",
       "      <td>7064</td>\n",
       "      <td>At school, 77 students study French, which is ...</td>\n",
       "      <td>385</td>\n",
       "    </tr>\n",
       "    <tr>\n",
       "      <th>96</th>\n",
       "      <td>7097</td>\n",
       "      <td>Among all the graduates of the school, 10 peop...</td>\n",
       "      <td>25</td>\n",
       "    </tr>\n",
       "    <tr>\n",
       "      <th>97</th>\n",
       "      <td>5448</td>\n",
       "      <td>The probability that a new ballpoint pen write...</td>\n",
       "      <td>0.79</td>\n",
       "    </tr>\n",
       "    <tr>\n",
       "      <th>98</th>\n",
       "      <td>2293</td>\n",
       "      <td>Find the value of the expression \\(2\\dfrac{5}{...</td>\n",
       "      <td>8.5</td>\n",
       "    </tr>\n",
       "    <tr>\n",
       "      <th>99</th>\n",
       "      <td>5261</td>\n",
       "      <td>Find the root of the equation \\(\\left(\\dfrac{1...</td>\n",
       "      <td>5</td>\n",
       "    </tr>\n",
       "  </tbody>\n",
       "</table>\n",
       "<p>100 rows × 3 columns</p>\n",
       "</div>"
      ],
      "text/plain": [
       "    problem_id                                       problem_text answer\n",
       "0         2374  Find the value of the expression $\\dfrac{17}{5...    1.6\n",
       "1         4723  In a company of 30 people, 25 use the social n...     24\n",
       "2         7135  The number of road traffic accidents (RTAs) in...     32\n",
       "3         5814  Find the value of the expression $\\dfrac{2\\str...    256\n",
       "4         9237  A traveler from Moscow wants to visit four cit...     53\n",
       "..         ...                                                ...    ...\n",
       "95        7064  At school, 77 students study French, which is ...    385\n",
       "96        7097  Among all the graduates of the school, 10 peop...     25\n",
       "97        5448  The probability that a new ballpoint pen write...   0.79\n",
       "98        2293  Find the value of the expression \\(2\\dfrac{5}{...    8.5\n",
       "99        5261  Find the root of the equation \\(\\left(\\dfrac{1...      5\n",
       "\n",
       "[100 rows x 3 columns]"
      ]
     },
     "execution_count": 14,
     "metadata": {},
     "output_type": "execute_result"
    }
   ],
   "source": [
    "train_df"
   ]
  },
  {
   "cell_type": "code",
   "execution_count": 11,
   "metadata": {},
   "outputs": [],
   "source": [
    "def llm(prompt, client, model=MODEL):\n",
    "    response = client.chat.completions.create(\n",
    "        model=model,\n",
    "        messages=[{\"role\": \"user\", \"content\": prompt}]\n",
    "    )\n",
    "\n",
    "    return response.choices[0].message.content"
   ]
  },
  {
   "cell_type": "code",
   "execution_count": 21,
   "metadata": {},
   "outputs": [],
   "source": [
    "def create_q_prompt(question):\n",
    "    return '\\n\\n'.join(\n",
    "        [\n",
    "            \"Please solve the following high school math problem step by step. Explain your reasoning clearly and provide the final answer.\",\n",
    "            question,\n",
    "            \"Step-by-step solution and final answer:\"\n",
    "        ]\n",
    "    )\n"
   ]
  },
  {
   "cell_type": "code",
   "execution_count": 22,
   "metadata": {},
   "outputs": [],
   "source": [
    "def analyze_message_prompt(question, message):\n",
    "    return '\\n\\n'.join(\n",
    "        [\n",
    "            \"Please analyze the solution for a given problem, fix it if needed, and then provide the final answer.\",\n",
    "            \"Your response should end in the format: 'Hence, the final answer is [numeric string].\",\n",
    "            f\"Q: {question}\",\n",
    "            f\"Solution: {message}\",\n",
    "            \"Analysis:\"\n",
    "        ]\n",
    "    )\n"
   ]
  },
  {
   "cell_type": "code",
   "execution_count": 12,
   "metadata": {},
   "outputs": [],
   "source": [
    "def get_answer(question, client, model=MODEL):\n",
    "    print(question)\n",
    "    return llm(create_q_prompt(question), client, model)\n"
   ]
  },
  {
   "cell_type": "code",
   "execution_count": 13,
   "metadata": {},
   "outputs": [],
   "source": [
    "def parse_answer(question, message, client, model=MODEL):\n",
    "    return llm(analyze_message_prompt(question, message), client, model)\n"
   ]
  },
  {
   "cell_type": "code",
   "execution_count": 20,
   "metadata": {},
   "outputs": [],
   "source": [
    "def extract_numerical_answer(text):\n",
    "    # Look for patterns like \"Final answer: X\" or \"The answer is X\" at the end of the text\n",
    "    match = re.search(r'(?:final answer|the answer is)[:\\s]*([+-]?\\d*\\.?\\d+)', text, re.IGNORECASE)\n",
    "    if match:\n",
    "        return float(match.group(1))\n",
    "    else:\n",
    "        # If no clear final answer, look for the last number in the text\n",
    "        numbers = re.findall(r'[+-]?\\d*\\.?\\d+', text)\n",
    "        return float(numbers[-1]) if numbers else 1.0"
   ]
  },
  {
   "cell_type": "code",
   "execution_count": 37,
   "metadata": {},
   "outputs": [
    {
     "name": "stdout",
     "output_type": "stream",
     "text": [
      "Please solve the following high school math problem step by step. Explain your reasoning clearly and provide the final answer.\n",
      "\n",
      "Find the value of the expression $\\dfrac{17}{5} :\\dfrac{34}{3} +1.3$.\n",
      "\n",
      "Step-by-step solution and final answer:\n"
     ]
    }
   ],
   "source": [
    "print(create_q_prompt(train_df['problem_text'][0]))"
   ]
  },
  {
   "cell_type": "code",
   "execution_count": 38,
   "metadata": {},
   "outputs": [
    {
     "name": "stdout",
     "output_type": "stream",
     "text": [
      "Please analyze the solution for a given problem, fix it if needed, and then provide the final answer.\n",
      "\n",
      "Your response should end in the format: 'Hence, the final answer is [numeric string].\n",
      "\n",
      "Q: Find the value of the expression $\\dfrac{17}{5} :\\dfrac{34}{3} +1.3$.\n",
      "\n",
      "Solution: 1.6\n",
      "\n",
      "Analysis:\n"
     ]
    }
   ],
   "source": [
    "print(analyze_message_prompt(train_df['problem_text'][0], train_df['answer'][0]))"
   ]
  },
  {
   "cell_type": "markdown",
   "metadata": {},
   "source": [
    "$\\dfrac{17}{5} :\\dfrac{34}{3} +1.3$"
   ]
  },
  {
   "cell_type": "code",
   "execution_count": 79,
   "metadata": {},
   "outputs": [
    {
     "data": {
      "text/plain": [
       "0.3"
      ]
     },
     "execution_count": 79,
     "metadata": {},
     "output_type": "execute_result"
    }
   ],
   "source": [
    "3/10"
   ]
  },
  {
   "cell_type": "code",
   "execution_count": 18,
   "metadata": {},
   "outputs": [
    {
     "name": "stdout",
     "output_type": "stream",
     "text": [
      "\n",
      "First, we need to simplify the given expression by following the order of operations (PEMDAS/BODMAS).\n",
      "\n",
      "Step 1: Divide fractions.\n",
      "To do this, we find the reciprocal of the second fraction and then divide the first fraction by the reciprocal of the second fraction:\n",
      "\n",
      "$\\dfrac{17}{5} :\\dfrac{34}{3} = \\dfrac{17}{5} \\div \\left(\\dfrac{34}{3}\\right) \\times \\left(\\dfrac{3}{1}\\right)$\n",
      "\n",
      "Step 2: Perform the division.\n",
      "Now, we divide the numerators and denominators separately:\n",
      "\n",
      "$\\dfrac{17}{5} \\div \\left(\\dfrac{34}{3}\\right) = \\dfrac{17 \\times 3}{5 \\times 34} = \\dfrac{51}{170}$\n",
      "\n",
      "Then, we multiply by the reciprocal of the second fraction:\n",
      "\n",
      "$\\dfrac{51}{170} \\times \\left(\\dfrac{3}{1}\\right) = \\dfrac{51 \\times 3}{170 \\times 1} = \\dfrac{153}{170}$\n",
      "\n",
      "Step 3: Add the simplified fraction to the decimal.\n",
      "Now, we add the simplified fraction to 1.3:\n",
      "\n",
      "$\\dfrac{153}{170} + 1.3$\n",
      "\n",
      "We can convert 1.3 into a fraction: $1.3 = \\dfrac{13}{10}$.\n",
      "\n",
      "Now, we have:\n",
      "\n",
      "$\\dfrac{153}{170} + \\dfrac{13}{10}$\n",
      "\n",
      "Step 4: Find a common denominator and add the fractions.\n",
      "To add these fractions, we need to find a common denominator, which is the product of 170 and 10:\n",
      "\n",
      "$\\dfrac{153 \\times 10}{170 \\times 10} + \\dfrac{13 \\times 170}{10 \\times 170}$\n",
      "\n",
      "Now, we have:\n",
      "\n",
      "$\\dfrac{1530}{1700} + \\dfrac{2210}{1700}$\n",
      "\n",
      "Step 5: Add the fractions and simplify.\n",
      "Now, we add the fractions with their new common denominator:\n",
      "\n",
      "$\\dfrac{1530 + 2210}{1700} = \\dfrac{3740}{1700}$\n",
      "\n",
      "Step 6: Simplify the fraction.\n",
      "Finally, we simplify the fraction by dividing both the numerator and denominator by their greatest common divisor (GCD), which is 50 in this case:\n",
      "\n",
      "$\\dfrac{3740}{1700} = \\dfrac{3740 \\div 50}{1700 \\div 50} = \\dfrac{74.8}{34}$\n",
      "\n",
      "Since we cannot divide 0.8 by 34, the expression is undefined. The question might have a different answer if it was defined.\n",
      "\n",
      "The answer is: The question might have a different answer if it was defined.\n"
     ]
    }
   ],
   "source": [
    "print(llm(train_df['problem_text'][0], client))"
   ]
  },
  {
   "cell_type": "markdown",
   "metadata": {},
   "source": [
    "question = train_df['problem_text'][0]\n",
    "\n",
    "response_1 = get_answer(question, client)\n",
    "response_1 = response_1.strip()\n",
    "\n",
    "response_2 = parse_answer(question, response_1, client)\n",
    "response_2 = response_2.strip()\n",
    "\n",
    "numerical_answer = extract_numerical_answer(response_2)"
   ]
  },
  {
   "cell_type": "code",
   "execution_count": 54,
   "metadata": {},
   "outputs": [
    {
     "data": {
      "text/plain": [
       "9.0"
      ]
     },
     "execution_count": 54,
     "metadata": {},
     "output_type": "execute_result"
    }
   ],
   "source": [
    "extract_numerical_answer(response_1)"
   ]
  },
  {
   "cell_type": "code",
   "execution_count": 55,
   "metadata": {},
   "outputs": [
    {
     "name": "stdout",
     "output_type": "stream",
     "text": [
      "The problem is asking us to find the value of the expression $\\dfrac{17}{5} :\\dfrac{34}{3} +1.3$. However, there seems to be a mistake in the question as the symbol ':' is not a valid operation in this context. Instead, it should be '÷'. \n",
      "\n",
      "Please provide the correct expression and I will help you solve it.\n"
     ]
    }
   ],
   "source": [
    "print(response_2)"
   ]
  },
  {
   "cell_type": "code",
   "execution_count": 61,
   "metadata": {},
   "outputs": [
    {
     "data": {
      "text/plain": [
       "'Find the value of the expression $\\\\dfrac{17}{5} :\\\\dfrac{34}{3} +1.3$.'"
      ]
     },
     "execution_count": 61,
     "metadata": {},
     "output_type": "execute_result"
    }
   ],
   "source": [
    "train_df.iloc[0]['problem_text']"
   ]
  },
  {
   "cell_type": "code",
   "execution_count": 63,
   "metadata": {},
   "outputs": [
    {
     "data": {
      "text/plain": [
       "2.0"
      ]
     },
     "execution_count": 63,
     "metadata": {},
     "output_type": "execute_result"
    }
   ],
   "source": [
    "extract_numerical_answer(get_answer(train_df.iloc[1]['problem_text'], client=client).strip())"
   ]
  },
  {
   "cell_type": "code",
   "execution_count": 39,
   "metadata": {},
   "outputs": [
    {
     "data": {
      "text/plain": [
       "'Find the value of the expression $\\\\dfrac{17}{5} :\\\\dfrac{34}{3} +1.3$.'"
      ]
     },
     "execution_count": 39,
     "metadata": {},
     "output_type": "execute_result"
    }
   ],
   "source": [
    "train_df.iloc[:1]['problem_text'].item()"
   ]
  },
  {
   "cell_type": "code",
   "execution_count": 40,
   "metadata": {},
   "outputs": [
    {
     "name": "stderr",
     "output_type": "stream",
     "text": [
      "100%|██████████| 100/100 [1:35:06<00:00, 57.06s/it]  \n"
     ]
    }
   ],
   "source": [
    "preds = (\n",
    "    train_df\n",
    "    .groupby('problem_id')\n",
    "    .progress_apply(lambda x: extract_numerical_answer(llm(x['problem_text'].item(), client=client).strip()))\n",
    "    .reset_index(drop=True)\n",
    ")"
   ]
  },
  {
   "cell_type": "code",
   "execution_count": 26,
   "metadata": {},
   "outputs": [
    {
     "data": {
      "text/plain": [
       "0       3.0\n",
       "1       8.0\n",
       "2      -6.0\n",
       "3      16.7\n",
       "4      81.0\n",
       "5       3.0\n",
       "6       4.0\n",
       "7       4.0\n",
       "8    3300.0\n",
       "9       3.0\n",
       "dtype: float64"
      ]
     },
     "execution_count": 26,
     "metadata": {},
     "output_type": "execute_result"
    }
   ],
   "source": [
    "preds"
   ]
  },
  {
   "cell_type": "code",
   "execution_count": 27,
   "metadata": {},
   "outputs": [],
   "source": [
    "def accuracy(y: pd.Series, y_pred: pd.Series):\n",
    "    return (y == y_pred).sum() / y.shape[0]"
   ]
  },
  {
   "cell_type": "code",
   "execution_count": 63,
   "metadata": {},
   "outputs": [
    {
     "data": {
      "text/plain": [
       "np.float64(0.02)"
      ]
     },
     "execution_count": 63,
     "metadata": {},
     "output_type": "execute_result"
    }
   ],
   "source": [
    "accuracy(train_df['answer'], preds.apply(lambda x: f'{x:.0f}' if x == int(x) else x))"
   ]
  },
  {
   "cell_type": "code",
   "execution_count": 65,
   "metadata": {},
   "outputs": [
    {
     "data": {
      "text/html": [
       "<div>\n",
       "<style scoped>\n",
       "    .dataframe tbody tr th:only-of-type {\n",
       "        vertical-align: middle;\n",
       "    }\n",
       "\n",
       "    .dataframe tbody tr th {\n",
       "        vertical-align: top;\n",
       "    }\n",
       "\n",
       "    .dataframe thead th {\n",
       "        text-align: right;\n",
       "    }\n",
       "</style>\n",
       "<table border=\"1\" class=\"dataframe\">\n",
       "  <thead>\n",
       "    <tr style=\"text-align: right;\">\n",
       "      <th></th>\n",
       "      <th>problem_id</th>\n",
       "      <th>problem_text</th>\n",
       "      <th>answer</th>\n",
       "    </tr>\n",
       "  </thead>\n",
       "  <tbody>\n",
       "    <tr>\n",
       "      <th>57</th>\n",
       "      <td>5186</td>\n",
       "      <td>Find the root of the equation \\(6^{x-12} = \\df...</td>\n",
       "      <td>10</td>\n",
       "    </tr>\n",
       "    <tr>\n",
       "      <th>90</th>\n",
       "      <td>11935</td>\n",
       "      <td>Monkeys make up 8% of all the animals in the z...</td>\n",
       "      <td>28</td>\n",
       "    </tr>\n",
       "  </tbody>\n",
       "</table>\n",
       "</div>"
      ],
      "text/plain": [
       "    problem_id                                       problem_text answer\n",
       "57        5186  Find the root of the equation \\(6^{x-12} = \\df...     10\n",
       "90       11935  Monkeys make up 8% of all the animals in the z...     28"
      ]
     },
     "execution_count": 65,
     "metadata": {},
     "output_type": "execute_result"
    }
   ],
   "source": [
    "train_df[train_df['answer'] == preds.apply(lambda x: f'{x:.0f}')]"
   ]
  },
  {
   "cell_type": "code",
   "execution_count": 44,
   "metadata": {},
   "outputs": [
    {
     "data": {
      "text/plain": [
       "0      1.6\n",
       "1       24\n",
       "2       32\n",
       "3      256\n",
       "4       53\n",
       "      ... \n",
       "95     385\n",
       "96      25\n",
       "97    0.79\n",
       "98     8.5\n",
       "99       5\n",
       "Name: answer, Length: 100, dtype: object"
      ]
     },
     "execution_count": 44,
     "metadata": {},
     "output_type": "execute_result"
    }
   ],
   "source": [
    "train_df['answer']"
   ]
  },
  {
   "cell_type": "code",
   "execution_count": 64,
   "metadata": {},
   "outputs": [
    {
     "data": {
      "text/plain": [
       "0         3\n",
       "1       234\n",
       "2         4\n",
       "3         6\n",
       "4     11100\n",
       "      ...  \n",
       "95        1\n",
       "96        4\n",
       "97      180\n",
       "98    1.515\n",
       "99       30\n",
       "Length: 100, dtype: object"
      ]
     },
     "execution_count": 64,
     "metadata": {},
     "output_type": "execute_result"
    }
   ],
   "source": [
    "preds.apply(lambda x: f'{x:.0f}' if x == int(x) else x)"
   ]
  },
  {
   "cell_type": "code",
   "execution_count": 70,
   "metadata": {},
   "outputs": [],
   "source": [
    "qwen_model = 'qwen2-math:7b'"
   ]
  },
  {
   "cell_type": "code",
   "execution_count": 71,
   "metadata": {},
   "outputs": [
    {
     "name": "stderr",
     "output_type": "stream",
     "text": [
      "100%|██████████| 10/10 [13:40<00:00, 82.10s/it]\n"
     ]
    }
   ],
   "source": [
    "qwen_preds = (\n",
    "    train_df.iloc[:10]\n",
    "    .groupby('problem_id')\n",
    "    .progress_apply(lambda x: extract_numerical_answer(llm(x['problem_text'].item(), client=client, model=qwen_model).strip()))\n",
    "    .reset_index(drop=True)\n",
    ")"
   ]
  },
  {
   "cell_type": "code",
   "execution_count": 72,
   "metadata": {},
   "outputs": [
    {
     "data": {
      "text/plain": [
       "np.float64(0.0)"
      ]
     },
     "execution_count": 72,
     "metadata": {},
     "output_type": "execute_result"
    }
   ],
   "source": [
    "accuracy(train_df.iloc[:10]['answer'], qwen_preds.apply(lambda x: f'{x:.0f}' if x == int(x) else x))"
   ]
  },
  {
   "cell_type": "code",
   "execution_count": 74,
   "metadata": {},
   "outputs": [
    {
     "data": {
      "text/plain": [
       "0       5.0\n",
       "1       2.0\n",
       "2       5.0\n",
       "3      24.0\n",
       "4     256.0\n",
       "5      32.0\n",
       "6     299.0\n",
       "7       4.0\n",
       "8    5907.0\n",
       "9       5.0\n",
       "dtype: float64"
      ]
     },
     "execution_count": 74,
     "metadata": {},
     "output_type": "execute_result"
    }
   ],
   "source": [
    "qwen_preds.apply(lambda x: f'{x:.0f}' if x == int(x) else x)"
   ]
  },
  {
   "cell_type": "code",
   "execution_count": 75,
   "metadata": {},
   "outputs": [],
   "source": [
    "mathstral_model = 'mathstral'"
   ]
  },
  {
   "cell_type": "code",
   "execution_count": 85,
   "metadata": {},
   "outputs": [
    {
     "name": "stdout",
     "output_type": "stream",
     "text": [
      "Please solve the following high school math problem step by step. Explain your reasoning clearly and provide the final answer.\n",
      "\n",
      "Find the value of the expression $\\dfrac{17}{5} :\\dfrac{34}{3} +1.3$.\n",
      "\n",
      "Step-by-step solution and final answer:\n"
     ]
    }
   ],
   "source": [
    "print(create_q_prompt(train_df['problem_text'][0]))"
   ]
  },
  {
   "cell_type": "code",
   "execution_count": 97,
   "metadata": {},
   "outputs": [
    {
     "name": "stdout",
     "output_type": "stream",
     "text": [
      "1. Convert the mixed number to an improper fraction: $1.3 = \\frac{13}{10}$.\n",
      "\n",
      "2. Rewrite $\\dfrac{17}{5} :\\dfrac{34}{3}$ as a division of fractions, which is equivalent to multiplication by the reciprocal: $\\dfrac{17}{5} \\cdot \\dfrac{3}{34}$.\n",
      "\n",
      "3. Cancel common factors in the numerators and denominators: $\\dfrac{\\cancelto{3}{17}}{5} \\cdot \\dfrac{3}{\\cancelto{2}{34}} = \\dfrac{3}{5} \\cdot \\dfrac{3}{2}$.\n",
      "\n",
      "4. Multiply the fractions: $\\dfrac{3 \\cdot 3}{5 \\cdot 2} = \\dfrac{9}{10}$.\n",
      "\n",
      "5. Add the result to $1.3$: $\\dfrac{9}{10} + \\dfrac{13}{10} = \\dfrac{9+13}{10} = \\dfrac{22}{10}$, which simplifies to $2.2$.\n",
      "\n",
      "Hence, the final answer is $\\boxed{2.2}$.\n"
     ]
    }
   ],
   "source": [
    "print(llm(train_df['problem_text'][0] + \" Your response should end in the format: 'Hence, the final answer is [numeric string].\", client, mathstral_model))"
   ]
  },
  {
   "cell_type": "code",
   "execution_count": 91,
   "metadata": {},
   "outputs": [
    {
     "name": "stdout",
     "output_type": "stream",
     "text": [
      "Find the value of the expression $\\dfrac{17}{5} :\\dfrac{34}{3} +1.3$.\n"
     ]
    },
    {
     "data": {
      "text/plain": [
       "6375.0"
      ]
     },
     "execution_count": 91,
     "metadata": {},
     "output_type": "execute_result"
    }
   ],
   "source": [
    "question = train_df['problem_text'][0]\n",
    "\n",
    "response_1 = get_answer(question, client, model=mathstral_model)\n",
    "response_1 = response_1.strip()\n",
    "\n",
    "response_2 = parse_answer(question, response_1, client, model=mathstral_model)\n",
    "response_2 = response_2.strip()\n",
    "\n",
    "numerical_answer = extract_numerical_answer(response_2)\n",
    "numerical_answer"
   ]
  },
  {
   "cell_type": "code",
   "execution_count": 94,
   "metadata": {},
   "outputs": [
    {
     "name": "stdout",
     "output_type": "stream",
     "text": [
      "1. The original problem asks for the solution to be in a numeric string format, but the final answer given is in fraction form. We need to convert this fraction into decimal form and then into a string format to meet the requirement.\n",
      "2. The fraction $\\dfrac{51}{8}$ can be converted to decimal form by performing long division or using a calculator. The result is $6.375$.\n",
      "3. To convert this decimal number to a string, we simply remove any unnecessary characters, such as decimals and spaces. So, the string representation of $6.375$ is \"6375\".\n",
      "\n",
      "Hence, the final answer is $\\boxed{6375}$.\n"
     ]
    }
   ],
   "source": [
    "print(response_2)"
   ]
  },
  {
   "cell_type": "code",
   "execution_count": 98,
   "metadata": {},
   "outputs": [
    {
     "name": "stderr",
     "output_type": "stream",
     "text": [
      "100%|██████████| 10/10 [09:26<00:00, 56.61s/it]\n"
     ]
    }
   ],
   "source": [
    "mathstral_preds = (\n",
    "    train_df.iloc[:10]\n",
    "    .groupby('problem_id')\n",
    "    .progress_apply(lambda x: extract_numerical_answer(llm(x['problem_text'].item(), client=client, model=mathstral_model).strip()))\n",
    "    .reset_index(drop=True)\n",
    ")"
   ]
  },
  {
   "cell_type": "code",
   "execution_count": 103,
   "metadata": {},
   "outputs": [
    {
     "data": {
      "text/plain": [
       "0    84\n",
       "1     2\n",
       "2     5\n",
       "3     3\n",
       "4    16\n",
       "5    32\n",
       "6    10\n",
       "7     4\n",
       "8     6\n",
       "9     4\n",
       "dtype: object"
      ]
     },
     "execution_count": 103,
     "metadata": {},
     "output_type": "execute_result"
    }
   ],
   "source": [
    "mathstral_preds.apply(lambda x: f'{x:.0f}' if x == int(x) else x)"
   ]
  },
  {
   "cell_type": "code",
   "execution_count": 100,
   "metadata": {},
   "outputs": [
    {
     "data": {
      "text/plain": [
       "np.float64(0.0)"
      ]
     },
     "execution_count": 100,
     "metadata": {},
     "output_type": "execute_result"
    }
   ],
   "source": [
    "accuracy(train_df.iloc[:10]['answer'], mathstral_preds.apply(lambda x: f'{x:.0f}' if x == int(x) else x))"
   ]
  },
  {
   "cell_type": "code",
   "execution_count": 105,
   "metadata": {},
   "outputs": [],
   "source": [
    "yet_another_prompt = \"\"\"Role:\n",
    "You are an advanced AI system with exceptional mathematical reasoning and problem-solving capabilities, specifically designed to solve tricky math problems (whose answer is a non-negative integer) written in LaTeX format from the AI Mathematical Olympiad (AIMO) competition. Your task is to accurately analyze and solve intricate mathematical problems, demonstrating a deep understanding of mathematical concepts and a strong ability to apply logical reasoning strategies.\n",
    "\n",
    "Instruction:\n",
    "1. Carefully read and comprehend the problem statement provided in the \"Problem\" section.\n",
    "2. In the \"Solution\" section, provide a solution of the problem with detailed explanation of your logical reasoning process. Keep in mind that answer must be a non-negative integer number.\n",
    "3. At the end, create a \"Answer\" section where you will state only the final numerical or algebraic answer, without any additional text or narrative.\n",
    "\n",
    "Problem:\n",
    "{question}\n",
    "\n",
    "Solution:\n",
    "...\n",
    "\n",
    "Answer:\n",
    "...\n",
    "\n",
    "Step-by-step solution and final answer:\"\"\"\n"
   ]
  },
  {
   "cell_type": "code",
   "execution_count": 107,
   "metadata": {},
   "outputs": [
    {
     "name": "stdout",
     "output_type": "stream",
     "text": [
      "Role:\n",
      "You are an advanced AI system with exceptional mathematical reasoning and problem-solving capabilities, specifically designed to solve tricky math problems (whose answer is a non-negative integer) written in LaTeX format from the AI Mathematical Olympiad (AIMO) competition. Your task is to accurately analyze and solve intricate mathematical problems, demonstrating a deep understanding of mathematical concepts and a strong ability to apply logical reasoning strategies.\n",
      "\n",
      "Instruction:\n",
      "1. Carefully read and comprehend the problem statement provided in the \"Problem\" section.\n",
      "2. In the \"Solution\" section, provide a solution of the problem with detailed explanation of your logical reasoning process. Keep in mind that answer must be a non-negative integer number.\n",
      "3. At the end, create a \"Answer\" section where you will state only the final numerical or algebraic answer, without any additional text or narrative.\n",
      "\n",
      "Problem:\n",
      "Find the value of the expression $\\dfrac{17}{5} :\\dfrac{34}{3} +1.3$.\n",
      "\n",
      "Solution:\n",
      "...\n",
      "\n",
      "Answer:\n",
      "...\n",
      "\n",
      "Step-by-step solution and final answer:\n"
     ]
    }
   ],
   "source": [
    "print(yet_another_prompt.format(question=train_df['problem_text'][0]))"
   ]
  },
  {
   "cell_type": "code",
   "execution_count": 115,
   "metadata": {},
   "outputs": [],
   "source": [
    "check_prompt = \"\"\"\n",
    "Role:\n",
    "You are an advanced AI system with exceptional mathematical reasoning and problem-solving capabilities, specifically designed to solve tricky math problems (whose answer is a non-negative integer) written in LaTeX format from the AI Mathematical Olympiad (AIMO) competition. Your task is to accurately analyze and solve intricate mathematical problems, demonstrating a deep understanding of mathematical concepts and a strong ability to apply logical reasoning strategies.\n",
    "\n",
    "Instruction:\n",
    "1. Carefully read and comprehend the problem statement provided in the \"Problem\" section.\n",
    "2. Carefully read the solution provided in the \"Solution\" section.\n",
    "3. Check if the solution is correct.\n",
    "4. Fix solution and create an \"Answer\" section with final answer numerical or algebraic answer, without any additional text or narrative.\n",
    "\n",
    "Problem:\n",
    "{question}\n",
    "\n",
    "Solution:\n",
    "{solution}\n",
    "\n",
    "Answer:\n",
    "...\n",
    "\n",
    "Step-by-step solution and final answer:\"\"\""
   ]
  },
  {
   "cell_type": "code",
   "execution_count": 113,
   "metadata": {},
   "outputs": [
    {
     "name": "stdout",
     "output_type": "stream",
     "text": [
      "1. First, we need to simplify the expression by changing the division into multiplication with the reciprocal. The division of fractions can be denoted as $\\dfrac{a}{b} : \\dfrac{c}{d}$ which is equal to $\\dfrac{\\frac{a}{b}}{\\frac{c}{d}}$.\n",
      "2. Applying this rule, we have: \n",
      "$$\\dfrac{17}{5} :\\dfrac{34}{3} +1.3 = \\dfrac{\\frac{17}{5}}{\\frac{34}{3}}+1.3$$\n",
      "3. Now, convert the whole number $1.3$ into a fraction for uniform treatment of terms: \n",
      "$$1.3 = \\dfrac{13}{10}$$\n",
      "4. Simplify the division of fractions by multiplying with the reciprocal: \n",
      "$$\\dfrac{\\frac{17}{5}}{\\frac{34}{3}} + \\dfrac{13}{10} = \\dfrac{17}{5} \\cdot \\dfrac{3}{34} + \\dfrac{13}{10}$$\n",
      "5. Simplify the multiplication: \n",
      "$$= \\dfrac{17 \\cdot 3}{5 \\cdot 34} + \\dfrac{13}{10}$$\n",
      "6. Combine the terms over a common denominator to perform addition, noting that LCM of $5\\cdot34$ and $10$ is $170$:\n",
      "$$= \\dfrac{17 \\cdot 3}{5 \\cdot 34} + \\dfrac{17 \\cdot 13}{10 \\cdot 34}$$\n",
      "7. Simplify: \n",
      "$$= \\dfrac{17}{170}(3+13)$$\n",
      "8. Final addition yields the result as an integer:\n",
      "$$= \\dfrac{17 \\cdot 16}{170} = \\dfrac{17 \\cdot 2}{5}$$\n",
      "9. The expression evaluates directly to:\n",
      "$$\\boxed{34/5}$$\n"
     ]
    }
   ],
   "source": [
    "resp1 = llm(yet_another_prompt.format(question=train_df['problem_text'][0]), client=client, model=mathstral_model)\n",
    "print(resp1)"
   ]
  },
  {
   "cell_type": "code",
   "execution_count": 116,
   "metadata": {},
   "outputs": [
    {
     "name": "stdout",
     "output_type": "stream",
     "text": [
      "1. We have the problem of finding the value of the expression $\\dfrac{17}{5} :\\dfrac{34}{3} +1.3$. To solve this, let's first convert the division into multiplication with the reciprocal:\n",
      "$$\\dfrac{17}{5} :\\dfrac{34}{3} +1.3 = \\dfrac{\\frac{17}{5}}{\\frac{34}{3}}+1.3$$\n",
      "2. Now, it will be easier to work with the expression if we convert $1.3$ into a fraction, i.e., $1.3=\\dfrac {13}{10}$. So our equation becomes:\n",
      "$$\\dfrac{\\frac{17}{5}}{\\frac{34}{3}} + \\dfrac{13}{10}$$\n",
      "3. Next, simplify the division of fractions by multiplying with the reciprocal: $\\dfrac{\\frac{a}{b}}{\\frac{c}{d}} = \\dfrac{a}{b} \\cdot \\dfrac{d}{c}$. This gives us:\n",
      "$$\\dfrac{17 \\cdot 3}{5 \\cdot 34} + \\dfrac{13}{10}$$\n",
      "4. Simplify the multiplication:\n",
      "$$= \\dfrac {51}{170}+ \\dfrac{13}{10}$$\n",
      "5. To combine them, convert denominators to a common denominator (which is $170$):\n",
      "$$\\dfrac{51+130}{170} = \\boxed{\\dfrac{181}{170}}$$ or simply $\\boxed{\\dfrac{181}{170}}$.\n"
     ]
    }
   ],
   "source": [
    "resp2 = llm(check_prompt.format(question=train_df['problem_text'][0], solution=resp1.strip()), client=client, model=mathstral_model)\n",
    "print(resp2)"
   ]
  },
  {
   "cell_type": "code",
   "execution_count": 119,
   "metadata": {},
   "outputs": [
    {
     "data": {
      "text/html": [
       "<div>\n",
       "<style scoped>\n",
       "    .dataframe tbody tr th:only-of-type {\n",
       "        vertical-align: middle;\n",
       "    }\n",
       "\n",
       "    .dataframe tbody tr th {\n",
       "        vertical-align: top;\n",
       "    }\n",
       "\n",
       "    .dataframe thead th {\n",
       "        text-align: right;\n",
       "    }\n",
       "</style>\n",
       "<table border=\"1\" class=\"dataframe\">\n",
       "  <thead>\n",
       "    <tr style=\"text-align: right;\">\n",
       "      <th></th>\n",
       "      <th>problem_id</th>\n",
       "      <th>problem_text</th>\n",
       "    </tr>\n",
       "  </thead>\n",
       "  <tbody>\n",
       "    <tr>\n",
       "      <th>0</th>\n",
       "      <td>11919</td>\n",
       "      <td>Find the value of the expression \\(4.8 \\cdot 2...</td>\n",
       "    </tr>\n",
       "    <tr>\n",
       "      <th>1</th>\n",
       "      <td>8513</td>\n",
       "      <td>The plane's navigation system informs the pass...</td>\n",
       "    </tr>\n",
       "    <tr>\n",
       "      <th>2</th>\n",
       "      <td>7887</td>\n",
       "      <td>The volume of a rectangular parallelepiped is ...</td>\n",
       "    </tr>\n",
       "    <tr>\n",
       "      <th>3</th>\n",
       "      <td>5272</td>\n",
       "      <td>Find the root of the equation: $\\left(\\dfrac{1...</td>\n",
       "    </tr>\n",
       "    <tr>\n",
       "      <th>4</th>\n",
       "      <td>8295</td>\n",
       "      <td>At the school, there are two-person camping te...</td>\n",
       "    </tr>\n",
       "    <tr>\n",
       "      <th>...</th>\n",
       "      <td>...</td>\n",
       "      <td>...</td>\n",
       "    </tr>\n",
       "    <tr>\n",
       "      <th>95</th>\n",
       "      <td>3519</td>\n",
       "      <td>A tourist is selecting tours. Information abou...</td>\n",
       "    </tr>\n",
       "    <tr>\n",
       "      <th>96</th>\n",
       "      <td>7934</td>\n",
       "      <td>The area of a triangle can be calculated using...</td>\n",
       "    </tr>\n",
       "    <tr>\n",
       "      <th>97</th>\n",
       "      <td>9390</td>\n",
       "      <td>A construction contractor plans to buy 20 tons...</td>\n",
       "    </tr>\n",
       "    <tr>\n",
       "      <th>98</th>\n",
       "      <td>7137</td>\n",
       "      <td>The number of road traffic accidents (RTAs) in...</td>\n",
       "    </tr>\n",
       "    <tr>\n",
       "      <th>99</th>\n",
       "      <td>5914</td>\n",
       "      <td>Find the value of the expression $\\dfrac{2.4\\c...</td>\n",
       "    </tr>\n",
       "  </tbody>\n",
       "</table>\n",
       "<p>100 rows × 2 columns</p>\n",
       "</div>"
      ],
      "text/plain": [
       "    problem_id                                       problem_text\n",
       "0        11919  Find the value of the expression \\(4.8 \\cdot 2...\n",
       "1         8513  The plane's navigation system informs the pass...\n",
       "2         7887  The volume of a rectangular parallelepiped is ...\n",
       "3         5272  Find the root of the equation: $\\left(\\dfrac{1...\n",
       "4         8295  At the school, there are two-person camping te...\n",
       "..         ...                                                ...\n",
       "95        3519  A tourist is selecting tours. Information abou...\n",
       "96        7934  The area of a triangle can be calculated using...\n",
       "97        9390  A construction contractor plans to buy 20 tons...\n",
       "98        7137  The number of road traffic accidents (RTAs) in...\n",
       "99        5914  Find the value of the expression $\\dfrac{2.4\\c...\n",
       "\n",
       "[100 rows x 2 columns]"
      ]
     },
     "execution_count": 119,
     "metadata": {},
     "output_type": "execute_result"
    }
   ],
   "source": [
    "test_df"
   ]
  },
  {
   "cell_type": "code",
   "execution_count": 130,
   "metadata": {},
   "outputs": [
    {
     "name": "stderr",
     "output_type": "stream",
     "text": [
      "100%|██████████| 100/100 [1:25:16<00:00, 51.16s/it]\n"
     ]
    }
   ],
   "source": [
    "mathstral_preds = (\n",
    "    test_df\n",
    "    .groupby('problem_id')\n",
    "    .progress_apply(\n",
    "        lambda x: [\n",
    "            f'{answer:.0f}' if answer == int(answer) else str(answer)\n",
    "            for answer in [\n",
    "                extract_numerical_answer(\n",
    "                    llm(\n",
    "                        x['problem_text'].item(),\n",
    "                        client=client,\n",
    "                        model=mathstral_model\n",
    "                    ).strip()\n",
    "                )\n",
    "            ]\n",
    "        ][0]\n",
    "    )\n",
    "    .reset_index(name='answer')\n",
    ")"
   ]
  },
  {
   "cell_type": "code",
   "execution_count": 131,
   "metadata": {},
   "outputs": [
    {
     "data": {
      "text/html": [
       "<div>\n",
       "<style scoped>\n",
       "    .dataframe tbody tr th:only-of-type {\n",
       "        vertical-align: middle;\n",
       "    }\n",
       "\n",
       "    .dataframe tbody tr th {\n",
       "        vertical-align: top;\n",
       "    }\n",
       "\n",
       "    .dataframe thead th {\n",
       "        text-align: right;\n",
       "    }\n",
       "</style>\n",
       "<table border=\"1\" class=\"dataframe\">\n",
       "  <thead>\n",
       "    <tr style=\"text-align: right;\">\n",
       "      <th></th>\n",
       "      <th>problem_id</th>\n",
       "      <th>answer</th>\n",
       "    </tr>\n",
       "  </thead>\n",
       "  <tbody>\n",
       "    <tr>\n",
       "      <th>0</th>\n",
       "      <td>4</td>\n",
       "      <td>20</td>\n",
       "    </tr>\n",
       "    <tr>\n",
       "      <th>1</th>\n",
       "      <td>25</td>\n",
       "      <td>909</td>\n",
       "    </tr>\n",
       "    <tr>\n",
       "      <th>2</th>\n",
       "      <td>160</td>\n",
       "      <td>9900</td>\n",
       "    </tr>\n",
       "    <tr>\n",
       "      <th>3</th>\n",
       "      <td>217</td>\n",
       "      <td>10.05</td>\n",
       "    </tr>\n",
       "    <tr>\n",
       "      <th>4</th>\n",
       "      <td>245</td>\n",
       "      <td>48</td>\n",
       "    </tr>\n",
       "    <tr>\n",
       "      <th>...</th>\n",
       "      <td>...</td>\n",
       "      <td>...</td>\n",
       "    </tr>\n",
       "    <tr>\n",
       "      <th>95</th>\n",
       "      <td>12166</td>\n",
       "      <td>1</td>\n",
       "    </tr>\n",
       "    <tr>\n",
       "      <th>96</th>\n",
       "      <td>12184</td>\n",
       "      <td>2046</td>\n",
       "    </tr>\n",
       "    <tr>\n",
       "      <th>97</th>\n",
       "      <td>12338</td>\n",
       "      <td>2</td>\n",
       "    </tr>\n",
       "    <tr>\n",
       "      <th>98</th>\n",
       "      <td>13512</td>\n",
       "      <td>24</td>\n",
       "    </tr>\n",
       "    <tr>\n",
       "      <th>99</th>\n",
       "      <td>13554</td>\n",
       "      <td>265</td>\n",
       "    </tr>\n",
       "  </tbody>\n",
       "</table>\n",
       "<p>100 rows × 2 columns</p>\n",
       "</div>"
      ],
      "text/plain": [
       "    problem_id answer\n",
       "0            4     20\n",
       "1           25    909\n",
       "2          160   9900\n",
       "3          217  10.05\n",
       "4          245     48\n",
       "..         ...    ...\n",
       "95       12166      1\n",
       "96       12184   2046\n",
       "97       12338      2\n",
       "98       13512     24\n",
       "99       13554    265\n",
       "\n",
       "[100 rows x 2 columns]"
      ]
     },
     "execution_count": 131,
     "metadata": {},
     "output_type": "execute_result"
    }
   ],
   "source": [
    "mathstral_preds"
   ]
  },
  {
   "cell_type": "code",
   "execution_count": 132,
   "metadata": {},
   "outputs": [],
   "source": [
    "mathstral_preds.to_csv('../submissions/mathstral_submission_1.csv', index=False)"
   ]
  },
  {
   "cell_type": "code",
   "execution_count": null,
   "metadata": {},
   "outputs": [],
   "source": []
  }
 ],
 "metadata": {
  "kernelspec": {
   "display_name": ".venv",
   "language": "python",
   "name": "python3"
  },
  "language_info": {
   "codemirror_mode": {
    "name": "ipython",
    "version": 3
   },
   "file_extension": ".py",
   "mimetype": "text/x-python",
   "name": "python",
   "nbconvert_exporter": "python",
   "pygments_lexer": "ipython3",
   "version": "3.9.6"
  }
 },
 "nbformat": 4,
 "nbformat_minor": 2
}
